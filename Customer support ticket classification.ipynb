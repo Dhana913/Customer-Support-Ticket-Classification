{
 "cells": [
  {
   "cell_type": "markdown",
   "id": "742ef290-a541-43d2-a1c6-5121e4b0e8ab",
   "metadata": {},
   "source": [
    "<font size =5> <center> Customer Support Ticket Classification </center> </font>"
   ]
  },
  {
   "cell_type": "code",
   "execution_count": 20,
   "id": "b8b2e848-9773-45a9-9196-9b252b6c33ae",
   "metadata": {},
   "outputs": [],
   "source": [
    "import pandas as pd\n",
    "import numpy as np\n",
    "from sklearn.model_selection import train_test_split\n",
    "from sklearn.naive_bayes import GaussianNB \n",
    "from sklearn.metrics import classification_report\n",
    "from sklearn.pipeline import Pipeline\n",
    "from sklearn.base import BaseEstimator, TransformerMixin\n",
    "from sentence_transformers import SentenceTransformer\n",
    "\n",
    "# Load your data\n",
    "df = pd.read_csv(\"customer_emails.csv\")\n",
    "df['category_num'] = df['category'].map({\n",
    "    'low': 0, \n",
    "    'medium': 1, \n",
    "    'high': 2\n",
    "})\n",
    "\n",
    "# Split the data\n",
    "X_train, X_test, y_train, y_test = train_test_split(\n",
    "    df.email_text, \n",
    "    df.category_num, \n",
    "    test_size=0.2,\n",
    "    random_state=2022,\n",
    "    stratify=df.category_num\n",
    ")\n",
    "\n",
    "# Create a custom transformer for SentenceTransformers\n",
    "class SentenceTransformerVectorizer(BaseEstimator, TransformerMixin):\n",
    "    def __init__(self, model_name='all-MiniLM-L6-v2'):# Smaller, faster model or use a more powerful model like: \n",
    "        #model = SentenceTransformer('all-mpnet-base-v2') for better performance but slower.        \n",
    "        self.model_name = model_name\n",
    "        self.model = SentenceTransformer(model_name)\n",
    "        \n",
    "    def fit(self, X, y=None):\n",
    "        return self\n",
    "        \n",
    "    def transform(self, X):\n",
    "        # Convert to list if it's a pandas Series\n",
    "        if isinstance(X, pd.Series):\n",
    "            X = X.tolist()\n",
    "        # Generate embeddings\n",
    "        embeddings = self.model.encode(X)\n",
    "        return embeddings"
   ]
  },
  {
   "cell_type": "code",
   "execution_count": 22,
   "id": "4379aeb3-ae26-4a86-bd2f-ff3ac1e5fbea",
   "metadata": {},
   "outputs": [
    {
     "name": "stdout",
     "output_type": "stream",
     "text": [
      "              precision    recall  f1-score   support\n",
      "\n",
      "           0       1.00      1.00      1.00       400\n",
      "           1       1.00      1.00      1.00       400\n",
      "           2       1.00      1.00      1.00       400\n",
      "\n",
      "    accuracy                           1.00      1200\n",
      "   macro avg       1.00      1.00      1.00      1200\n",
      "weighted avg       1.00      1.00      1.00      1200\n",
      "\n"
     ]
    }
   ],
   "source": [
    "# Create the pipeline with the SentenceTransformer vectorizer and Naives Bayes classifier\n",
    "clf = Pipeline([\n",
    "    ('vectorizer', SentenceTransformerVectorizer(model_name='all-MiniLM-L6-v2')),\n",
    "    ('classifier', GaussianNB()) # SentenceTransformer embeddings are continuous dense vectors so GaussianNB() is used\n",
    "])\n",
    "\n",
    "# Fit the model\n",
    "clf.fit(X_train, y_train)\n",
    "\n",
    "# Make predictions\n",
    "y_pred = clf.predict(X_test)\n",
    "\n",
    "# Print the classification report\n",
    "print(classification_report(y_test, y_pred))"
   ]
  },
  {
   "cell_type": "code",
   "execution_count": 24,
   "id": "66ad5bde-af7d-4170-b3c7-2a6d6aaf86ca",
   "metadata": {},
   "outputs": [
    {
     "data": {
      "text/plain": [
       "array([[400,   0,   0],\n",
       "       [  0, 400,   0],\n",
       "       [  0,   0, 400]], dtype=int64)"
      ]
     },
     "execution_count": 24,
     "metadata": {},
     "output_type": "execute_result"
    }
   ],
   "source": [
    "from sklearn.metrics import confusion_matrix\n",
    "cm = confusion_matrix(y_test, y_pred)\n",
    "cm"
   ]
  },
  {
   "cell_type": "code",
   "execution_count": 26,
   "id": "fa83509b-0d10-4e75-b1ae-21a40054850d",
   "metadata": {},
   "outputs": [
    {
     "data": {
      "text/plain": [
       "Text(95.72222222222221, 0.5, 'Truth')"
      ]
     },
     "execution_count": 26,
     "metadata": {},
     "output_type": "execute_result"
    },
    {
     "data": {
      "image/png": "[encoded data removed]",
      "text/plain": [
       "<Figure size 1000x700 with 2 Axes>"
      ]
     },
     "metadata": {},
     "output_type": "display_data"
    }
   ],
   "source": [
    "# Plot confusion matrix\n",
    "from matplotlib import pyplot as plt\n",
    "import seaborn as sn\n",
    "plt.figure(figsize = (10,7))\n",
    "sn.heatmap(cm, annot=True, fmt='d')\n",
    "plt.xlabel('Prediction')\n",
    "plt.ylabel('Truth')"
   ]
  },
  {
   "cell_type": "markdown",
   "id": "f090f6c4-32a8-4b7b-b247-36f1c4e286d5",
   "metadata": {},
   "source": [
    "<font size =3> Make some predictions below </font>"
   ]
  },
  {
   "cell_type": "code",
   "execution_count": 30,
   "id": "9baaf505-5ae6-4859-b249-1e88d14e8a3b",
   "metadata": {},
   "outputs": [
    {
     "name": "stdout",
     "output_type": "stream",
     "text": [
      "[0]\n"
     ]
    }
   ],
   "source": [
    "y_pred_1 = clf.predict([\"When does your Thanksgiving sale start this year?\"])\n",
    "\n",
    "print(y_pred_1)"
   ]
  },
  {
   "cell_type": "code",
   "execution_count": 32,
   "id": "f3372c1d-d731-4463-8248-6baf4777b126",
   "metadata": {},
   "outputs": [
    {
     "name": "stdout",
     "output_type": "stream",
     "text": [
      "[1]\n"
     ]
    }
   ],
   "source": [
    "y_pred_1 = clf.predict([\"I would like to add lavender shower steamers to my order 1234\"])\n",
    "\n",
    "print(y_pred_1)"
   ]
  },
  {
   "cell_type": "code",
   "execution_count": 34,
   "id": "868e3d72-a2b9-4f73-8114-c5197b5596e0",
   "metadata": {},
   "outputs": [
    {
     "name": "stdout",
     "output_type": "stream",
     "text": [
      "[2]\n"
     ]
    }
   ],
   "source": [
    "y_pred_1 = clf.predict([\"Credit card charged twice\"])\n",
    "\n",
    "print(y_pred_1)"
   ]
  }
 ],
 "metadata": {
  "kernelspec": {
   "display_name": "Python [conda env:base] *",
   "language": "python",
   "name": "conda-base-py"
  },
  "language_info": {
   "codemirror_mode": {
    "name": "ipython",
    "version": 3
   },
   "file_extension": ".py",
   "mimetype": "text/x-python",
   "name": "python",
   "nbconvert_exporter": "python",
   "pygments_lexer": "ipython3",
   "version": "3.12.7"
  }
 },
 "nbformat": 4,
 "nbformat_minor": 5
}
