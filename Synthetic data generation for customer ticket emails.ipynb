{
 "cells": [
  {
   "cell_type": "markdown",
   "id": "3b140067-9f2e-4114-9a01-ae295e5d09a6",
   "metadata": {},
   "source": [
    "<font size =5> <center>Synthetic Data Generation for Customer Ticket Emails </center> </font>"
   ]
  },
  {
   "cell_type": "code",
   "execution_count": 7,
   "id": "0981583c-93f4-436d-95f2-cd99631fc93c",
   "metadata": {},
   "outputs": [
    {
     "name": "stdout",
     "output_type": "stream",
     "text": [
      "Collecting fakerNote: you may need to restart the kernel to use updated packages.\n",
      "\n",
      "  Downloading faker-37.0.2-py3-none-any.whl.metadata (15 kB)\n",
      "Requirement already satisfied: tzdata in c:\\users\\dhana\\anaconda3\\lib\\site-packages (from faker) (2023.3)\n",
      "Downloading faker-37.0.2-py3-none-any.whl (1.9 MB)\n",
      "   ---------------------------------------- 0.0/1.9 MB ? eta -:--:--\n",
      "   ---------------------------------------- 1.9/1.9 MB 15.1 MB/s eta 0:00:00\n",
      "Installing collected packages: faker\n",
      "Successfully installed faker-37.0.2\n"
     ]
    }
   ],
   "source": [
    "pip install faker"
   ]
  },
  {
   "cell_type": "code",
   "execution_count": 1,
   "id": "b56389a3-8ad4-4988-aa36-8d450866528a",
   "metadata": {},
   "outputs": [
    {
     "name": "stdout",
     "output_type": "stream",
     "text": [
      "  category                                         email_text\n",
      "0     high  I'm facing an issue with payment processing on...\n",
      "1      low  The packaging of the shower steamers is so cut...\n",
      "2   medium  Can you update shipping for order #705940? Nee...\n",
      "3      low  Just wanted to say how impressed I am with the...\n",
      "4      low      Do you have any upcoming sales or promotions?\n"
     ]
    }
   ],
   "source": [
    "import pandas as pd\n",
    "from faker import Faker\n",
    "import random\n",
    "\n",
    "fake = Faker()\n",
    "categories = ['high', 'medium', 'low']\n",
    "\n",
    "# Templates for different priority emails\n",
    "high_templates = [\n",
    "    \"Order No.{} arrived damaged. Need replacement ASAP.\",\n",
    "    \"URGENT: Wrong items shipped for order #{}. Need immediate resolution.\",\n",
    "    \"Order #{} missing items. This is time-sensitive.\",\n",
    "    \"My package (order {}) was marked as delivered, but I never received it. I think it was stolen from my porch. Please investigate and help me recover it.\",\n",
    "    \"Order #{} unauthorized charges. Please help urgently.\",\n",
    "    \"I'm facing an issue with payment processing on your site. I've tried multiple times, but my payment keeps failing. Please assist me as soon as possible.\"\n",
    "]\n",
    "\n",
    "medium_templates = [\n",
    "    \"Can you update shipping for order #{}? Need it sent to a different address.\",\n",
    "    \"Question about my recent purchase #{}. When will it arrive?\",\n",
    "    \"Need to modify order #{} by adding another item.\",\n",
    "    \"Don't know how to use the shower steamers.\",\n",
    "    \"Order no.{} is delayed according to tracking. Any updates?\"\n",
    "]\n",
    "\n",
    "low_templates = [\n",
    "    \"Just wanted to say how impressed I am with the quality of my recent purchase.\",\n",
    "    \"Quick question: do you offer gift wrapping for future orders?\",\n",
    "    \"I saw your post on Instagram. Are you releasing any new limited edition scents soon?\",\n",
    "    \"Do you have any upcoming sales or promotions?\",\n",
    "    \"Your shower steamers are amazing!\",\n",
    "    \"The packaging of the shower steamers is so cute and elegant. It made the whole unboxing experience feel special!\"\n",
    "]\n",
    "\n",
    "# Generate data with exactly 2000 of each category\n",
    "data = []\n",
    "\n",
    "# Generate 2000 high priority emails\n",
    "for _ in range(2000):\n",
    "    template = random.choice(high_templates)\n",
    "    if '{}' in template:\n",
    "        email_text = template.format(random.randint(100000, 999999))\n",
    "    else:\n",
    "        email_text = template\n",
    "    data.append({\n",
    "        'category': 'high',\n",
    "        'email_text': email_text\n",
    "    })\n",
    "\n",
    "# Generate 2000 medium priority emails\n",
    "for _ in range(2000):\n",
    "    template = random.choice(medium_templates)\n",
    "    if '{}' in template:\n",
    "        email_text = template.format(random.randint(100000, 999999))\n",
    "    else:\n",
    "        email_text = template\n",
    "    data.append({\n",
    "        'category': 'medium',\n",
    "        'email_text': email_text\n",
    "    })\n",
    "\n",
    "# Generate 2000 low priority emails\n",
    "for _ in range(2000):\n",
    "    template = random.choice(low_templates)\n",
    "    if '{}' in template:\n",
    "        email_text = template.format(random.randint(100000, 999999))\n",
    "    else:\n",
    "        email_text = template\n",
    "    data.append({\n",
    "        'category': 'low',\n",
    "        'email_text': email_text\n",
    "    })\n",
    "\n",
    "# Shuffle the data to avoid having all high, then all medium, then all low\n",
    "random.shuffle(data)\n",
    "\n",
    "df = pd.DataFrame(data)\n",
    "df.to_csv(\"customer_emails.csv\", index=False)\n",
    "print(df.head())"
   ]
  },
  {
   "cell_type": "code",
   "execution_count": null,
   "id": "3fbe750b-5215-4818-9a02-410d1db9a8a0",
   "metadata": {},
   "outputs": [],
   "source": []
  }
 ],
 "metadata": {
  "kernelspec": {
   "display_name": "Python [conda env:base] *",
   "language": "python",
   "name": "conda-base-py"
  },
  "language_info": {
   "codemirror_mode": {
    "name": "ipython",
    "version": 3
   },
   "file_extension": ".py",
   "mimetype": "text/x-python",
   "name": "python",
   "nbconvert_exporter": "python",
   "pygments_lexer": "ipython3",
   "version": "3.12.7"
  }
 },
 "nbformat": 4,
 "nbformat_minor": 5
}
